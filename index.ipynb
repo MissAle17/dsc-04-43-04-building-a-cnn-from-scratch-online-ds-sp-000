{
 "cells": [
  {
   "cell_type": "markdown",
   "metadata": {},
   "source": [
    "# Building a CNN from Scratch - Lab\n",
    "\n",
    "## Introduction\n",
    "\n",
    "Now that you have background knowledge regarding how CNNs work and how to implement them via Keras, its time to pratice those skills a little more independently in order to build a CNN on your own to solve a image recognition problem. In this lab, you'll practice building an image classifier from start to finish using a CNN.  \n",
    "\n",
    "## Objectives\n",
    "\n",
    "You will be able to:\n",
    "* Transform images into tensors\n",
    "* Build a CNN model for image recognition"
   ]
  },
  {
   "cell_type": "markdown",
   "metadata": {},
   "source": [
    "## Loading the Images\n",
    "\n",
    "The data for this lab concerns classifying lung xray images for pneumonia. The original dataset is from kaggle. We have downsampled this dataset in order to reduce trainging time for you when you design and fit your model to the data. It is anticipated that this process will take approximately 1 hour to run on a standard machine, although times will vary depending on your particular computer and set up. At the end of this lab, you are welcome to try training on the complete dataset and observe the impact on the model's overall accuracy. \n",
    "\n",
    "You can find the initial downsampled dataset in a subdirectory, **chest_xray**, of this repository."
   ]
  },
  {
   "cell_type": "code",
   "execution_count": 45,
   "metadata": {},
   "outputs": [
    {
     "name": "stdout",
     "output_type": "stream",
     "text": [
      "Found 1738 images belonging to 2 classes.\n",
      "Found 4 images belonging to 2 classes.\n"
     ]
    }
   ],
   "source": [
    "#Your code here; load the images; be sure to also preprocess these into tensors.\n",
    "from keras.preprocessing.image import ImageDataGenerator\n",
    "\n",
    "train_dir = 'chest_xray_downsampled/train'\n",
    "validation_dir = 'chest_xray_downsampled/val/'\n",
    "test_dir = 'chest_xray_downsampled/test/'\n",
    "\n",
    "# All images will be rescaled by 1./255\n",
    "train_datagen = ImageDataGenerator(rescale=1./255)\n",
    "test_datagen = ImageDataGenerator(rescale=1./255)\n",
    "\n",
    "train_generator = train_datagen.flow_from_directory(\n",
    "        # This is the target directory\n",
    "        train_dir,\n",
    "        # All images will be resized to 150x150\n",
    "        target_size=(150, 150),\n",
    "        batch_size=20,\n",
    "        # Since we use binary_crossentropy loss, we need binary labels\n",
    "        class_mode='binary')\n",
    "\n",
    "validation_generator = test_datagen.flow_from_directory(\n",
    "        validation_dir,\n",
    "        target_size=(150, 150),\n",
    "        batch_size=20,\n",
    "        class_mode='binary')"
   ]
  },
  {
   "cell_type": "code",
   "execution_count": null,
   "metadata": {},
   "outputs": [],
   "source": []
  },
  {
   "cell_type": "markdown",
   "metadata": {},
   "source": [
    "## Designing the Model\n",
    "\n",
    "Now it's time to design your CNN! Remember a few things when doing this: \n",
    "* You should alternate convolutional and pooling layers\n",
    "* You should have later layers have a larger number of parameters in order to detect more abstract patterns\n",
    "* Add some final dense layers to add a classifier to the convolutional base"
   ]
  },
  {
   "cell_type": "code",
   "execution_count": 46,
   "metadata": {},
   "outputs": [],
   "source": [
    "from keras import models\n",
    "from keras import layers\n",
    "from keras import optimizers\n",
    "import time\n",
    "import datetime"
   ]
  },
  {
   "cell_type": "code",
   "execution_count": 47,
   "metadata": {},
   "outputs": [],
   "source": [
    "#Your code here; design and compile the model\n",
    "model = models.Sequential()\n",
    "model.add(layers.Conv2D(32, (3, 3), activation='relu',\n",
    "                        input_shape=(150, 150, 3)))\n",
    "model.add(layers.MaxPooling2D((2, 2)))\n",
    "model.add(layers.Conv2D(64, (3, 3), activation='relu'))\n",
    "model.add(layers.MaxPooling2D((2, 2)))\n",
    "model.add(layers.Conv2D(128, (3, 3), activation='relu'))\n",
    "model.add(layers.MaxPooling2D((2, 2)))\n",
    "model.add(layers.Conv2D(128, (3, 3), activation='relu'))\n",
    "model.add(layers.MaxPooling2D((2, 2)))\n",
    "model.add(layers.Flatten())\n",
    "model.add(layers.Dense(512, activation='relu'))\n",
    "model.add(layers.Dense(1, activation='sigmoid'))\n",
    "\n",
    "\n"
   ]
  },
  {
   "cell_type": "code",
   "execution_count": 48,
   "metadata": {},
   "outputs": [],
   "source": [
    "model.compile(loss='binary_crossentropy',\n",
    "              optimizer=optimizers.RMSprop(lr=1e-4),\n",
    "              metrics=['acc'])"
   ]
  },
  {
   "cell_type": "markdown",
   "metadata": {},
   "source": [
    "## Training and Evaluating the Model\n",
    "\n",
    "Remember that training deep networks is resource intensive: depending on the size of the data, even a CNN with 3-4 successive convolutional and pooling layers is apt to take a hours to train on a high end laptop. Using 30 epochs and 8 layers (alternating between convolutional and pooling), our model took about 40 minutes to run on a year old macbook pro.\n",
    "\n",
    "\n",
    "If you are concerned with runtime, you may want to set your model to run the training epochs overnight.  \n",
    "\n",
    "**If you are going to run this process overnight, be sure to also script code for the following questions concerning data augmentation. Check your code twice (or more) and then set the notebook to run all, or something equivalent to have them train overnight.**"
   ]
  },
  {
   "cell_type": "code",
   "execution_count": 49,
   "metadata": {},
   "outputs": [
    {
     "name": "stdout",
     "output_type": "stream",
     "text": [
      "Epoch 1/30\n",
      "100/100 [==============================] - 68s 684ms/step - loss: 0.5128 - acc: 0.7673 - val_loss: 0.6480 - val_acc: 0.7500\n",
      "Epoch 2/30\n",
      "100/100 [==============================] - 65s 653ms/step - loss: 0.2963 - acc: 0.8773 - val_loss: 0.9200 - val_acc: 0.7500\n",
      "Epoch 3/30\n",
      "100/100 [==============================] - 66s 659ms/step - loss: 0.2023 - acc: 0.9194 - val_loss: 1.2108 - val_acc: 0.7500\n",
      "Epoch 4/30\n",
      "100/100 [==============================] - 65s 650ms/step - loss: 0.1386 - acc: 0.9438 - val_loss: 1.0074 - val_acc: 0.7500\n",
      "Epoch 5/30\n",
      "100/100 [==============================] - 65s 645ms/step - loss: 0.1280 - acc: 0.9539 - val_loss: 1.9366 - val_acc: 0.5000\n",
      "Epoch 6/30\n",
      "100/100 [==============================] - 66s 656ms/step - loss: 0.1145 - acc: 0.9539 - val_loss: 1.8606 - val_acc: 0.5000\n",
      "Epoch 7/30\n",
      "100/100 [==============================] - 65s 647ms/step - loss: 0.0869 - acc: 0.9665 - val_loss: 0.8979 - val_acc: 0.7500\n",
      "Epoch 8/30\n",
      "100/100 [==============================] - 65s 652ms/step - loss: 0.0901 - acc: 0.9659 - val_loss: 0.7008 - val_acc: 0.7500\n",
      "Epoch 9/30\n",
      "100/100 [==============================] - 65s 650ms/step - loss: 0.0696 - acc: 0.9740 - val_loss: 0.7941 - val_acc: 0.7500\n",
      "Epoch 10/30\n",
      "100/100 [==============================] - 65s 647ms/step - loss: 0.0760 - acc: 0.9679 - val_loss: 1.3874 - val_acc: 0.5000\n",
      "Epoch 11/30\n",
      "100/100 [==============================] - 65s 651ms/step - loss: 0.0566 - acc: 0.9790 - val_loss: 0.8264 - val_acc: 0.7500\n",
      "Epoch 12/30\n",
      "100/100 [==============================] - 126s 1s/step - loss: 0.0564 - acc: 0.9755 - val_loss: 0.5916 - val_acc: 0.7500\n",
      "Epoch 13/30\n",
      "100/100 [==============================] - 66s 658ms/step - loss: 0.0491 - acc: 0.9830 - val_loss: 1.5710 - val_acc: 0.5000\n",
      "Epoch 14/30\n",
      "100/100 [==============================] - 66s 655ms/step - loss: 0.0401 - acc: 0.9870 - val_loss: 2.5438 - val_acc: 0.5000\n",
      "Epoch 15/30\n",
      "100/100 [==============================] - 66s 656ms/step - loss: 0.0374 - acc: 0.9890 - val_loss: 1.2132 - val_acc: 0.7500\n",
      "Epoch 16/30\n",
      "100/100 [==============================] - 64s 643ms/step - loss: 0.0335 - acc: 0.9890 - val_loss: 1.4863 - val_acc: 0.7500\n",
      "Epoch 17/30\n",
      "100/100 [==============================] - 65s 649ms/step - loss: 0.0301 - acc: 0.9885 - val_loss: 0.5150 - val_acc: 0.7500\n",
      "Epoch 18/30\n",
      "100/100 [==============================] - 66s 658ms/step - loss: 0.0272 - acc: 0.9900 - val_loss: 0.7329 - val_acc: 0.7500\n",
      "Epoch 19/30\n",
      "100/100 [==============================] - 64s 642ms/step - loss: 0.0226 - acc: 0.9915 - val_loss: 1.2646 - val_acc: 0.7500\n",
      "Epoch 20/30\n",
      "100/100 [==============================] - 65s 650ms/step - loss: 0.0159 - acc: 0.9945 - val_loss: 1.8716 - val_acc: 0.5000\n",
      "Epoch 21/30\n",
      "100/100 [==============================] - 64s 644ms/step - loss: 0.0209 - acc: 0.9920 - val_loss: 0.6016 - val_acc: 0.7500\n",
      "Epoch 22/30\n",
      "100/100 [==============================] - 65s 655ms/step - loss: 0.0149 - acc: 0.9945 - val_loss: 1.4076 - val_acc: 0.5000\n",
      "Epoch 23/30\n",
      "100/100 [==============================] - 64s 642ms/step - loss: 0.0108 - acc: 0.9965 - val_loss: 1.3676 - val_acc: 0.7500\n",
      "Epoch 24/30\n",
      "100/100 [==============================] - 65s 649ms/step - loss: 0.0182 - acc: 0.9970 - val_loss: 4.7211 - val_acc: 0.5000\n",
      "Epoch 25/30\n",
      "100/100 [==============================] - 65s 654ms/step - loss: 0.0131 - acc: 0.9965 - val_loss: 1.4593 - val_acc: 0.7500\n",
      "Epoch 26/30\n",
      "100/100 [==============================] - 64s 642ms/step - loss: 0.0070 - acc: 0.9970 - val_loss: 1.1677 - val_acc: 0.7500\n",
      "Epoch 27/30\n",
      "100/100 [==============================] - 66s 658ms/step - loss: 0.0087 - acc: 0.9980 - val_loss: 1.0979 - val_acc: 0.7500\n",
      "Epoch 28/30\n",
      "100/100 [==============================] - 66s 658ms/step - loss: 0.0058 - acc: 0.9985 - val_loss: 1.7051 - val_acc: 0.7500\n",
      "Epoch 29/30\n",
      "100/100 [==============================] - 66s 657ms/step - loss: 0.0080 - acc: 0.9979 - val_loss: 1.5903 - val_acc: 0.7500\n",
      "Epoch 30/30\n",
      "100/100 [==============================] - 65s 647ms/step - loss: 0.0037 - acc: 0.9990 - val_loss: 1.0498 - val_acc: 0.7500\n",
      "Time Elapsed: 0:33:37.326848\n"
     ]
    }
   ],
   "source": [
    "#Set the model to train; see warnings above\n",
    "now = datetime.datetime.now()\n",
    "\n",
    "history = model.fit_generator(\n",
    "      train_generator,\n",
    "      steps_per_epoch=100,\n",
    "      epochs=30,\n",
    "      validation_data=validation_generator,\n",
    "      validation_steps=50)\n",
    "\n",
    "later = datetime.datetime.now()\n",
    "elapsed = later - now\n",
    "print('Time Elapsed:', elapsed)"
   ]
  },
  {
   "cell_type": "code",
   "execution_count": 53,
   "metadata": {},
   "outputs": [],
   "source": [
    "acc = history.history['acc']\n",
    "loss = history.history['loss']\n",
    "val_acc = history.history['val_acc']\n",
    "val_loss = history.history['val_loss']"
   ]
  },
  {
   "cell_type": "code",
   "execution_count": 56,
   "metadata": {},
   "outputs": [],
   "source": [
    "epochs = range(len(acc))"
   ]
  },
  {
   "cell_type": "code",
   "execution_count": 55,
   "metadata": {},
   "outputs": [],
   "source": [
    "import matplotlib.pyplot as plt\n",
    "%matplotlib inline "
   ]
  },
  {
   "cell_type": "code",
   "execution_count": 58,
   "metadata": {},
   "outputs": [
    {
     "data": {
      "image/png": "[encoded data removed]",
      "text/plain": [
       "<Figure size 432x288 with 1 Axes>"
      ]
     },
     "metadata": {
      "needs_background": "light"
     },
     "output_type": "display_data"
    },
    {
     "data": {
      "image/png": "[encoded data removed]",
      "text/plain": [
       "<Figure size 432x288 with 1 Axes>"
      ]
     },
     "metadata": {
      "needs_background": "light"
     },
     "output_type": "display_data"
    }
   ],
   "source": [
    "# Plot history\n",
    "\n",
    "\n",
    "plt.plot(epochs, acc, 'bx', label='Training acc')\n",
    "plt.plot(epochs, val_acc, 'b', label='Validation acc')\n",
    "plt.title('Training and validation accuracy')\n",
    "plt.legend()\n",
    "plt.figure()\n",
    "plt.plot(epochs, loss, 'rx', label='Training loss')\n",
    "plt.plot(epochs, val_loss, 'r', label='Validation loss')\n",
    "plt.title('Training and validation loss')\n",
    "plt.legend()\n",
    "plt.show()"
   ]
  },
  {
   "cell_type": "markdown",
   "metadata": {},
   "source": [
    "## Save the Model"
   ]
  },
  {
   "cell_type": "code",
   "execution_count": 59,
   "metadata": {},
   "outputs": [],
   "source": [
    "#Your code here; save the model for future reference.\n",
    "model.save('chest_xray_downsampled/DS_Model.h5')"
   ]
  },
  {
   "cell_type": "markdown",
   "metadata": {},
   "source": [
    "## Data Augmentation\n",
    "\n",
    "Recall that data augmentation is typically always a necessary step when using a small dataset as this one which you have been provided. As such, if you haven't already, implement a data augmentation setup.\n",
    "\n",
    "**Warning: This process took nearly 4 hours to run on a relatively new macbook pro. As such, it is recommended that you simply code the setup and compare to the solution branch, or set the process to run overnight if you do choose to actually run the code.**"
   ]
  },
  {
   "cell_type": "code",
   "execution_count": 60,
   "metadata": {},
   "outputs": [
    {
     "name": "stdout",
     "output_type": "stream",
     "text": [
      "Found 1738 images belonging to 2 classes.\n",
      "Found 4 images belonging to 2 classes.\n",
      "Epoch 1/30\n",
      "100/100 [==============================] - 76s 760ms/step - loss: 0.6685 - acc: 0.7643 - val_loss: 1.1834 - val_acc: 0.5000\n",
      "Epoch 2/30\n",
      "100/100 [==============================] - 75s 754ms/step - loss: 0.3836 - acc: 0.8273 - val_loss: 0.9576 - val_acc: 0.5000\n",
      "Epoch 3/30\n",
      "100/100 [==============================] - 73s 734ms/step - loss: 0.3399 - acc: 0.8533 - val_loss: 1.3981 - val_acc: 0.5000\n",
      "Epoch 4/30\n",
      "100/100 [==============================] - 72s 721ms/step - loss: 0.3012 - acc: 0.8705 - val_loss: 1.1957 - val_acc: 0.5000\n",
      "Epoch 5/30\n",
      "100/100 [==============================] - 73s 730ms/step - loss: 0.3084 - acc: 0.8658 - val_loss: 1.0541 - val_acc: 0.5000\n",
      "Epoch 6/30\n",
      "100/100 [==============================] - 73s 729ms/step - loss: 0.2885 - acc: 0.8867 - val_loss: 1.9725 - val_acc: 0.5000\n",
      "Epoch 7/30\n",
      "100/100 [==============================] - 73s 729ms/step - loss: 0.2745 - acc: 0.8884 - val_loss: 1.8387 - val_acc: 0.5000\n",
      "Epoch 8/30\n",
      "100/100 [==============================] - 73s 733ms/step - loss: 0.2606 - acc: 0.8968 - val_loss: 1.9307 - val_acc: 0.5000\n",
      "Epoch 9/30\n",
      "100/100 [==============================] - 72s 724ms/step - loss: 0.2543 - acc: 0.8959 - val_loss: 1.2844 - val_acc: 0.5000\n",
      "Epoch 10/30\n",
      "100/100 [==============================] - 72s 724ms/step - loss: 0.2187 - acc: 0.9060 - val_loss: 1.7879 - val_acc: 0.5000\n",
      "Epoch 11/30\n",
      "100/100 [==============================] - 389s 4s/step - loss: 0.2332 - acc: 0.9095 - val_loss: 1.5132 - val_acc: 0.5000\n",
      "Epoch 12/30\n",
      "100/100 [==============================] - 73s 728ms/step - loss: 0.2234 - acc: 0.9119 - val_loss: 1.4889 - val_acc: 0.5000\n",
      "Epoch 13/30\n",
      "100/100 [==============================] - 74s 741ms/step - loss: 0.2277 - acc: 0.9094 - val_loss: 1.0592 - val_acc: 0.5000\n",
      "Epoch 14/30\n",
      "100/100 [==============================] - 73s 729ms/step - loss: 0.2134 - acc: 0.9149 - val_loss: 1.5730 - val_acc: 0.5000\n",
      "Epoch 15/30\n",
      "100/100 [==============================] - 72s 720ms/step - loss: 0.2226 - acc: 0.9094 - val_loss: 2.7645 - val_acc: 0.5000\n",
      "Epoch 16/30\n",
      "100/100 [==============================] - 75s 753ms/step - loss: 0.2060 - acc: 0.9154 - val_loss: 1.2163 - val_acc: 0.5000\n",
      "Epoch 17/30\n",
      "100/100 [==============================] - 73s 732ms/step - loss: 0.1924 - acc: 0.9249 - val_loss: 0.6502 - val_acc: 0.5000\n",
      "Epoch 18/30\n",
      "100/100 [==============================] - 72s 725ms/step - loss: 0.2081 - acc: 0.9189 - val_loss: 1.4698 - val_acc: 0.5000\n",
      "Epoch 19/30\n",
      "100/100 [==============================] - 72s 723ms/step - loss: 0.1977 - acc: 0.9259 - val_loss: 1.0722 - val_acc: 0.5000\n",
      "Epoch 20/30\n",
      "100/100 [==============================] - 73s 727ms/step - loss: 0.2026 - acc: 0.9180 - val_loss: 0.6616 - val_acc: 0.5000\n",
      "Epoch 21/30\n",
      "100/100 [==============================] - 73s 728ms/step - loss: 0.1881 - acc: 0.9289 - val_loss: 2.6870 - val_acc: 0.5000\n",
      "Epoch 22/30\n",
      "100/100 [==============================] - 73s 728ms/step - loss: 0.1807 - acc: 0.9327 - val_loss: 0.7115 - val_acc: 0.5000\n",
      "Epoch 23/30\n",
      "100/100 [==============================] - 73s 731ms/step - loss: 0.1684 - acc: 0.9335 - val_loss: 1.5873 - val_acc: 0.5000\n",
      "Epoch 24/30\n",
      "100/100 [==============================] - 74s 738ms/step - loss: 0.1808 - acc: 0.9273 - val_loss: 0.6137 - val_acc: 0.5000\n",
      "Epoch 25/30\n",
      "100/100 [==============================] - 73s 727ms/step - loss: 0.1660 - acc: 0.9345 - val_loss: 1.0984 - val_acc: 0.5000\n",
      "Epoch 26/30\n",
      "100/100 [==============================] - 74s 743ms/step - loss: 0.1782 - acc: 0.9293 - val_loss: 1.5133 - val_acc: 0.5000\n",
      "Epoch 27/30\n",
      "100/100 [==============================] - 73s 729ms/step - loss: 0.1698 - acc: 0.9298 - val_loss: 1.3823 - val_acc: 0.5000\n",
      "Epoch 28/30\n",
      "100/100 [==============================] - 72s 716ms/step - loss: 0.1679 - acc: 0.9295 - val_loss: 0.6354 - val_acc: 0.5000\n",
      "Epoch 29/30\n",
      "100/100 [==============================] - 72s 719ms/step - loss: 0.1666 - acc: 0.9349 - val_loss: 1.4334 - val_acc: 0.5000\n",
      "Epoch 30/30\n",
      "100/100 [==============================] - 72s 724ms/step - loss: 0.1593 - acc: 0.9389 - val_loss: 1.3348 - val_acc: 0.5000\n",
      "Time Elapsed: 0:41:49.723657\n"
     ]
    }
   ],
   "source": [
    "#Add data augmentation to the model setup and set the model to train; \n",
    "#See warnings above if you intend to run this block of code\n",
    "\n",
    "train_datagen = ImageDataGenerator(rescale=1./255, \n",
    "     rotation_range=40,\n",
    "     width_shift_range=0.2,\n",
    "     height_shift_range=0.2,\n",
    "     shear_range=0.3,\n",
    "     zoom_range=0.1,\n",
    "     horizontal_flip = False)\n",
    "\n",
    "test_datagen =ImageDataGenerator(rescale=1./255)\n",
    "\n",
    "train_generator2 = train_datagen.flow_from_directory(\n",
    "        # This is the target directory\n",
    "        train_dir,\n",
    "        # All images will be resized to 150x150\n",
    "        target_size=(150, 150),\n",
    "        batch_size=20,\n",
    "        # Since we use binary_crossentropy loss, we need binary labels\n",
    "        class_mode='binary')\n",
    "\n",
    "validation_generator2 = test_datagen.flow_from_directory(\n",
    "        validation_dir,\n",
    "        target_size=(150, 150),\n",
    "        batch_size=20,\n",
    "        class_mode='binary')\n",
    "\n",
    "now = datetime.datetime.now()\n",
    "\n",
    "history2 = model.fit_generator(\n",
    "      train_generator2,\n",
    "      steps_per_epoch=100,\n",
    "      epochs=30,\n",
    "      validation_data=validation_generator2,\n",
    "      validation_steps=50)\n",
    "\n",
    "later = datetime.datetime.now()\n",
    "elapsed = later - now\n",
    "print('Time Elapsed:', elapsed)"
   ]
  },
  {
   "cell_type": "code",
   "execution_count": 61,
   "metadata": {},
   "outputs": [
    {
     "data": {
      "image/png": "[encoded data removed]",
      "text/plain": [
       "<Figure size 432x288 with 1 Axes>"
      ]
     },
     "metadata": {
      "needs_background": "light"
     },
     "output_type": "display_data"
    },
    {
     "data": {
      "image/png": "[encoded data removed]",
      "text/plain": [
       "<Figure size 432x288 with 1 Axes>"
      ]
     },
     "metadata": {
      "needs_background": "light"
     },
     "output_type": "display_data"
    }
   ],
   "source": [
    "acc2 = history2.history['acc']\n",
    "loss2 = history2.history['loss']\n",
    "val_acc2 = history2.history['val_acc']\n",
    "val_loss2 = history2.history['val_loss']\n",
    "\n",
    "plt.plot(epochs, acc2, 'bx', label='Training acc')\n",
    "plt.plot(epochs, val_acc2, 'b', label='Validation acc')\n",
    "plt.title('Training and validation accuracy w/ Augmentation')\n",
    "plt.legend()\n",
    "plt.figure()\n",
    "plt.plot(epochs, loss2, 'rx', label='Training loss')\n",
    "plt.plot(epochs, val_loss2, 'r', label='Validation loss')\n",
    "plt.title('Training and validation loss  w/ Augmentation')\n",
    "plt.legend()\n",
    "plt.show()"
   ]
  },
  {
   "cell_type": "markdown",
   "metadata": {},
   "source": [
    "## Final Evaluation\n",
    "\n",
    "Now use the test set to perform a final evaluation on your model of choice."
   ]
  },
  {
   "cell_type": "code",
   "execution_count": 64,
   "metadata": {},
   "outputs": [
    {
     "name": "stdout",
     "output_type": "stream",
     "text": [
      "Found 208 images belonging to 2 classes.\n"
     ]
    },
    {
     "ename": "AttributeError",
     "evalue": "'DirectoryIterator' object has no attribute 'ndim'",
     "output_type": "error",
     "traceback": [
      "\u001b[0;31m---------------------------------------------------------------------------\u001b[0m",
      "\u001b[0;31mAttributeError\u001b[0m                            Traceback (most recent call last)",
      "\u001b[0;32m<ipython-input-64-0b9beb87b492>\u001b[0m in \u001b[0;36m<module>\u001b[0;34m()\u001b[0m\n\u001b[1;32m      6\u001b[0m         class_mode='binary')\n\u001b[1;32m      7\u001b[0m \u001b[0;34m\u001b[0m\u001b[0m\n\u001b[0;32m----> 8\u001b[0;31m \u001b[0mtest_loss\u001b[0m\u001b[0;34m,\u001b[0m \u001b[0mtest_acc\u001b[0m \u001b[0;34m=\u001b[0m \u001b[0mmodel\u001b[0m\u001b[0;34m.\u001b[0m\u001b[0mevaluate\u001b[0m\u001b[0;34m(\u001b[0m\u001b[0mtest_generator\u001b[0m\u001b[0;34m,\u001b[0m \u001b[0msteps\u001b[0m\u001b[0;34m=\u001b[0m\u001b[0;36m50\u001b[0m\u001b[0;34m)\u001b[0m\u001b[0;34m\u001b[0m\u001b[0m\n\u001b[0m\u001b[1;32m      9\u001b[0m \u001b[0;34m\u001b[0m\u001b[0m\n\u001b[1;32m     10\u001b[0m \u001b[0mprint\u001b[0m\u001b[0;34m(\u001b[0m\u001b[0;34m'test acc:'\u001b[0m\u001b[0;34m,\u001b[0m \u001b[0mtest_acc\u001b[0m\u001b[0;34m)\u001b[0m\u001b[0;34m\u001b[0m\u001b[0m\n",
      "\u001b[0;32m~/anaconda3/envs/learn-env/lib/python3.6/site-packages/keras/engine/training.py\u001b[0m in \u001b[0;36mevaluate\u001b[0;34m(self, x, y, batch_size, verbose, sample_weight, steps)\u001b[0m\n\u001b[1;32m   1098\u001b[0m             \u001b[0mx\u001b[0m\u001b[0;34m,\u001b[0m \u001b[0my\u001b[0m\u001b[0;34m,\u001b[0m\u001b[0;34m\u001b[0m\u001b[0m\n\u001b[1;32m   1099\u001b[0m             \u001b[0msample_weight\u001b[0m\u001b[0;34m=\u001b[0m\u001b[0msample_weight\u001b[0m\u001b[0;34m,\u001b[0m\u001b[0;34m\u001b[0m\u001b[0m\n\u001b[0;32m-> 1100\u001b[0;31m             batch_size=batch_size)\n\u001b[0m\u001b[1;32m   1101\u001b[0m         \u001b[0;31m# Prepare inputs, delegate logic to `test_loop`.\u001b[0m\u001b[0;34m\u001b[0m\u001b[0;34m\u001b[0m\u001b[0m\n\u001b[1;32m   1102\u001b[0m         \u001b[0;32mif\u001b[0m \u001b[0mself\u001b[0m\u001b[0;34m.\u001b[0m\u001b[0m_uses_dynamic_learning_phase\u001b[0m\u001b[0;34m(\u001b[0m\u001b[0;34m)\u001b[0m\u001b[0;34m:\u001b[0m\u001b[0;34m\u001b[0m\u001b[0m\n",
      "\u001b[0;32m~/anaconda3/envs/learn-env/lib/python3.6/site-packages/keras/engine/training.py\u001b[0m in \u001b[0;36m_standardize_user_data\u001b[0;34m(self, x, y, sample_weight, class_weight, check_array_lengths, batch_size)\u001b[0m\n\u001b[1;32m    747\u001b[0m             \u001b[0mfeed_input_shapes\u001b[0m\u001b[0;34m,\u001b[0m\u001b[0;34m\u001b[0m\u001b[0m\n\u001b[1;32m    748\u001b[0m             \u001b[0mcheck_batch_axis\u001b[0m\u001b[0;34m=\u001b[0m\u001b[0;32mFalse\u001b[0m\u001b[0;34m,\u001b[0m  \u001b[0;31m# Don't enforce the batch size.\u001b[0m\u001b[0;34m\u001b[0m\u001b[0m\n\u001b[0;32m--> 749\u001b[0;31m             exception_prefix='input')\n\u001b[0m\u001b[1;32m    750\u001b[0m \u001b[0;34m\u001b[0m\u001b[0m\n\u001b[1;32m    751\u001b[0m         \u001b[0;32mif\u001b[0m \u001b[0my\u001b[0m \u001b[0;32mis\u001b[0m \u001b[0;32mnot\u001b[0m \u001b[0;32mNone\u001b[0m\u001b[0;34m:\u001b[0m\u001b[0;34m\u001b[0m\u001b[0m\n",
      "\u001b[0;32m~/anaconda3/envs/learn-env/lib/python3.6/site-packages/keras/engine/training_utils.py\u001b[0m in \u001b[0;36mstandardize_input_data\u001b[0;34m(data, names, shapes, check_batch_axis, exception_prefix)\u001b[0m\n\u001b[1;32m     89\u001b[0m         \u001b[0mdata\u001b[0m \u001b[0;34m=\u001b[0m \u001b[0mdata\u001b[0m\u001b[0;34m.\u001b[0m\u001b[0mvalues\u001b[0m \u001b[0;32mif\u001b[0m \u001b[0mdata\u001b[0m\u001b[0;34m.\u001b[0m\u001b[0m__class__\u001b[0m\u001b[0;34m.\u001b[0m\u001b[0m__name__\u001b[0m \u001b[0;34m==\u001b[0m \u001b[0;34m'DataFrame'\u001b[0m \u001b[0;32melse\u001b[0m \u001b[0mdata\u001b[0m\u001b[0;34m\u001b[0m\u001b[0m\n\u001b[1;32m     90\u001b[0m         \u001b[0mdata\u001b[0m \u001b[0;34m=\u001b[0m \u001b[0;34m[\u001b[0m\u001b[0mdata\u001b[0m\u001b[0;34m]\u001b[0m\u001b[0;34m\u001b[0m\u001b[0m\n\u001b[0;32m---> 91\u001b[0;31m     \u001b[0mdata\u001b[0m \u001b[0;34m=\u001b[0m \u001b[0;34m[\u001b[0m\u001b[0mstandardize_single_array\u001b[0m\u001b[0;34m(\u001b[0m\u001b[0mx\u001b[0m\u001b[0;34m)\u001b[0m \u001b[0;32mfor\u001b[0m \u001b[0mx\u001b[0m \u001b[0;32min\u001b[0m \u001b[0mdata\u001b[0m\u001b[0;34m]\u001b[0m\u001b[0;34m\u001b[0m\u001b[0m\n\u001b[0m\u001b[1;32m     92\u001b[0m \u001b[0;34m\u001b[0m\u001b[0m\n\u001b[1;32m     93\u001b[0m     \u001b[0;32mif\u001b[0m \u001b[0mlen\u001b[0m\u001b[0;34m(\u001b[0m\u001b[0mdata\u001b[0m\u001b[0;34m)\u001b[0m \u001b[0;34m!=\u001b[0m \u001b[0mlen\u001b[0m\u001b[0;34m(\u001b[0m\u001b[0mnames\u001b[0m\u001b[0;34m)\u001b[0m\u001b[0;34m:\u001b[0m\u001b[0;34m\u001b[0m\u001b[0m\n",
      "\u001b[0;32m~/anaconda3/envs/learn-env/lib/python3.6/site-packages/keras/engine/training_utils.py\u001b[0m in \u001b[0;36m<listcomp>\u001b[0;34m(.0)\u001b[0m\n\u001b[1;32m     89\u001b[0m         \u001b[0mdata\u001b[0m \u001b[0;34m=\u001b[0m \u001b[0mdata\u001b[0m\u001b[0;34m.\u001b[0m\u001b[0mvalues\u001b[0m \u001b[0;32mif\u001b[0m \u001b[0mdata\u001b[0m\u001b[0;34m.\u001b[0m\u001b[0m__class__\u001b[0m\u001b[0;34m.\u001b[0m\u001b[0m__name__\u001b[0m \u001b[0;34m==\u001b[0m \u001b[0;34m'DataFrame'\u001b[0m \u001b[0;32melse\u001b[0m \u001b[0mdata\u001b[0m\u001b[0;34m\u001b[0m\u001b[0m\n\u001b[1;32m     90\u001b[0m         \u001b[0mdata\u001b[0m \u001b[0;34m=\u001b[0m \u001b[0;34m[\u001b[0m\u001b[0mdata\u001b[0m\u001b[0;34m]\u001b[0m\u001b[0;34m\u001b[0m\u001b[0m\n\u001b[0;32m---> 91\u001b[0;31m     \u001b[0mdata\u001b[0m \u001b[0;34m=\u001b[0m \u001b[0;34m[\u001b[0m\u001b[0mstandardize_single_array\u001b[0m\u001b[0;34m(\u001b[0m\u001b[0mx\u001b[0m\u001b[0;34m)\u001b[0m \u001b[0;32mfor\u001b[0m \u001b[0mx\u001b[0m \u001b[0;32min\u001b[0m \u001b[0mdata\u001b[0m\u001b[0;34m]\u001b[0m\u001b[0;34m\u001b[0m\u001b[0m\n\u001b[0m\u001b[1;32m     92\u001b[0m \u001b[0;34m\u001b[0m\u001b[0m\n\u001b[1;32m     93\u001b[0m     \u001b[0;32mif\u001b[0m \u001b[0mlen\u001b[0m\u001b[0;34m(\u001b[0m\u001b[0mdata\u001b[0m\u001b[0;34m)\u001b[0m \u001b[0;34m!=\u001b[0m \u001b[0mlen\u001b[0m\u001b[0;34m(\u001b[0m\u001b[0mnames\u001b[0m\u001b[0;34m)\u001b[0m\u001b[0;34m:\u001b[0m\u001b[0;34m\u001b[0m\u001b[0m\n",
      "\u001b[0;32m~/anaconda3/envs/learn-env/lib/python3.6/site-packages/keras/engine/training_utils.py\u001b[0m in \u001b[0;36mstandardize_single_array\u001b[0;34m(x)\u001b[0m\n\u001b[1;32m     24\u001b[0m                 'Got tensor with shape: %s' % str(shape))\n\u001b[1;32m     25\u001b[0m         \u001b[0;32mreturn\u001b[0m \u001b[0mx\u001b[0m\u001b[0;34m\u001b[0m\u001b[0m\n\u001b[0;32m---> 26\u001b[0;31m     \u001b[0;32melif\u001b[0m \u001b[0mx\u001b[0m\u001b[0;34m.\u001b[0m\u001b[0mndim\u001b[0m \u001b[0;34m==\u001b[0m \u001b[0;36m1\u001b[0m\u001b[0;34m:\u001b[0m\u001b[0;34m\u001b[0m\u001b[0m\n\u001b[0m\u001b[1;32m     27\u001b[0m         \u001b[0mx\u001b[0m \u001b[0;34m=\u001b[0m \u001b[0mnp\u001b[0m\u001b[0;34m.\u001b[0m\u001b[0mexpand_dims\u001b[0m\u001b[0;34m(\u001b[0m\u001b[0mx\u001b[0m\u001b[0;34m,\u001b[0m \u001b[0;36m1\u001b[0m\u001b[0;34m)\u001b[0m\u001b[0;34m\u001b[0m\u001b[0m\n\u001b[1;32m     28\u001b[0m     \u001b[0;32mreturn\u001b[0m \u001b[0mx\u001b[0m\u001b[0;34m\u001b[0m\u001b[0m\n",
      "\u001b[0;31mAttributeError\u001b[0m: 'DirectoryIterator' object has no attribute 'ndim'"
     ]
    }
   ],
   "source": [
    "# Your code here; perform a final evaluation using the test set..\n",
    "test_generator = test_datagen.flow_from_directory(\n",
    "        test_dir,\n",
    "        target_size=(150, 150),\n",
    "        batch_size=20,\n",
    "        class_mode='binary')\n",
    "\n",
    "test_loss, test_acc = model.evaluate(test_generator, steps=50)\n",
    "\n",
    "print('test acc:', test_acc)\n",
    "print('test_loss', test_loss)"
   ]
  },
  {
   "cell_type": "markdown",
   "metadata": {},
   "source": [
    "## Extension: Adding Data to the Model\n",
    "\n",
    "As discussed, the current dataset we worked with is a subset of a dataset hosted on Kaggle. Increasing the data that we use to train the model will result in additional performance gains but will also result in longer training times and be more resource intensive.   \n",
    "\n",
    "It is estimated that training on the full dataset will take approximately 4 hours (and potentially significantly longer) depending on your computer's specifications.\n",
    "\n",
    "In order to test the impact of training on the full dataset, start by downloading the data from kaggle here: https://www.kaggle.com/paultimothymooney/chest-xray-pneumonia.   "
   ]
  },
  {
   "cell_type": "code",
   "execution_count": null,
   "metadata": {},
   "outputs": [],
   "source": [
    "#Optional extension; Your code here"
   ]
  },
  {
   "cell_type": "markdown",
   "metadata": {},
   "source": [
    "## Summary\n",
    "\n",
    "Well done! In this lab, you practice building your own CNN for image recognition which drastically outperformed our previous attempts using a standard deep learning model alone. In the upcoming sections, we'll continue to investigate further techniques associated with CNNs including visualizing the representations they learn and techniques to further bolster their performance when we have limited training data such as here."
   ]
  }
 ],
 "metadata": {
  "kernelspec": {
   "display_name": "Python 3",
   "language": "python",
   "name": "python3"
  },
  "language_info": {
   "codemirror_mode": {
    "name": "ipython",
    "version": 3
   },
   "file_extension": ".py",
   "mimetype": "text/x-python",
   "name": "python",
   "nbconvert_exporter": "python",
   "pygments_lexer": "ipython3",
   "version": "3.6.6"
  }
 },
 "nbformat": 4,
 "nbformat_minor": 2
}
